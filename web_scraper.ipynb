{
 "cells": [
  {
   "cell_type": "code",
   "execution_count": 36,
   "metadata": {},
   "outputs": [],
   "source": [
    "import sqlite3\n",
    "from sqlite3 import Error\n",
    " \n",
    " \n",
    "def create_connection(db_file):\n",
    "    \"\"\" create a database connection to a SQLite database \"\"\"\n",
    "    try:\n",
    "        conn = sqlite3.connect(db_file)\n",
    "        return conn\n",
    "    except Error as e:\n",
    "        print(e)\n",
    "        \n",
    "    return None"
   ]
  },
  {
   "cell_type": "code",
   "execution_count": 37,
   "metadata": {},
   "outputs": [],
   "source": [
    "def create_database(conn, create_table_sql):\n",
    "    try:\n",
    "        c = conn.cursor()\n",
    "        c.execute(create_table_sql)\n",
    "    except Error as e:\n",
    "        print(e)"
   ]
  },
  {
   "cell_type": "code",
   "execution_count": 38,
   "metadata": {},
   "outputs": [],
   "source": [
    "database_name = \"allergy_forecast\"\n",
    "def add_record(conn, record):\n",
    "    sql = \"INSERT INTO \" + database_name + \"(region, name, month, decade, intensity) VALUES(?,?,?,?,?)\"\n",
    "    cur = conn.cursor()\n",
    "    cur.execute(sql, record)\n",
    "    return cur.lastrowid"
   ]
  },
  {
   "cell_type": "code",
   "execution_count": 39,
   "metadata": {},
   "outputs": [],
   "source": [
    "import requests\n",
    "from bs4 import BeautifulSoup\n",
    "\n",
    "prefix_url = 'http://www.alergen.info.pl/kalendarz_pylenia_roslin.php?r=region_'\n",
    "\n",
    "def get_forecast(region, conn):\n",
    "    r = requests.get(prefix_url + str(region))\n",
    "    soup = BeautifulSoup(r.text, 'html.parser')\n",
    "    \n",
    "    forecast = soup.find_all('tr')\n",
    "    for i in range(2, len(forecast)): #2nd is first meaningful tag\n",
    "        allergen_forecast = forecast[i].find_all('td')\n",
    "        name =  allergen_forecast[0].text\n",
    "        \n",
    "        '''It is hard coded because word DĄB is converted through BeautifulSoup\n",
    "        to some another weird word which consists of invisible characters '''\n",
    "        if(name[0] == 'D'):\n",
    "            name = 'DĄB'        \n",
    "\n",
    "        for j in range(2, len(allergen_forecast)):\n",
    "            attr = allergen_forecast[j]['class']\n",
    "            attr = attr[len(attr) - 1]\n",
    "            if(attr == \"p_yellow\"):\n",
    "                intensity = 1\n",
    "            elif(attr == \"p_orange\"):\n",
    "                intensity = 2\n",
    "            elif(attr == \"p_red\"):\n",
    "                intensity = 3\n",
    "            else:\n",
    "                intensity = 0\n",
    "            month = ((int) ((j + 1) / 3))\n",
    "            decade = (j + 1) % 3 + 1\n",
    "            record = (region, name, month, decade, intensity);\n",
    "            add_record(conn, record)"
   ]
  },
  {
   "cell_type": "code",
   "execution_count": 40,
   "metadata": {},
   "outputs": [],
   "source": [
    "def main():\n",
    "    database = \"allergy_forecast.db\"\n",
    " \n",
    "    sql_create_forecast_table = \"\"\" CREATE TABLE IF NOT EXISTS allergy_forecast (\n",
    "                                        _id INTEGER PRIMARY KEY AUTOINCREMENT NOT NULL,\n",
    "                                        region INTEGER NOT NULL,\n",
    "                                        name TEXT NOT NULL,\n",
    "                                        month INTEGER NOT NULL,\n",
    "                                        decade INTEGER NOT NULL,\n",
    "                                        intensity INTEGER NOT NULL,\n",
    "                                        UNIQUE(region, name, month, decade)\n",
    "                                    ); \"\"\"\n",
    " \n",
    "    # create a database connection\n",
    "    conn = create_connection(database)\n",
    "    if conn is not None:\n",
    "        create_database(conn, sql_create_forecast_table)\n",
    "    else:\n",
    "        print(\"Error! cannot create the database connection.\")\n",
    "        \n",
    "    with conn:\n",
    "        for i in range(1, 5):\n",
    "            get_forecast(i, conn)"
   ]
  },
  {
   "cell_type": "code",
   "execution_count": 41,
   "metadata": {},
   "outputs": [],
   "source": [
    "if __name__ == '__main__':\n",
    "    main()"
   ]
  },
  {
   "cell_type": "code",
   "execution_count": null,
   "metadata": {},
   "outputs": [],
   "source": []
  }
 ],
 "metadata": {
  "kernelspec": {
   "display_name": "Python 3",
   "language": "python",
   "name": "python3"
  },
  "language_info": {
   "codemirror_mode": {
    "name": "ipython",
    "version": 3
   },
   "file_extension": ".py",
   "mimetype": "text/x-python",
   "name": "python",
   "nbconvert_exporter": "python",
   "pygments_lexer": "ipython3",
   "version": "3.7.4"
  }
 },
 "nbformat": 4,
 "nbformat_minor": 2
}
